{
 "cells": [
  {
   "cell_type": "markdown",
   "metadata": {},
   "source": [
    "# <span style=\"color:orange\">Pet Adoption Analysis and prediction:- BY POWER PUFF GIRLS</span> "
   ]
  },
  {
   "cell_type": "markdown",
   "metadata": {},
   "source": [
    "# Importing required libraries!"
   ]
  },
  {
   "cell_type": "code",
   "execution_count": 197,
   "metadata": {},
   "outputs": [
    {
     "name": "stdout",
     "output_type": "stream",
     "text": [
      "Populating the interactive namespace from numpy and matplotlib\n"
     ]
    }
   ],
   "source": [
    "import pandas as pd\n",
    "from pandas import Series, DataFrame\n",
    "%pylab inline\n",
    "import numpy as np\n",
    "import statsmodels.api as sm\n",
    "from patsy import dmatrices\n",
    "from copy import deepcopy\n",
    "from sklearn import neighbors\n",
    "from sklearn import metrics\n",
    "from sklearn.ensemble import RandomForestClassifier\n",
    "from sklearn import naive_bayes\n",
    "from sklearn.tree import DecisionTreeClassifier\n",
    "from sklearn.tree import export_graphviz\n",
    "\n",
    "#import pydot_ng"
   ]
  },
  {
   "cell_type": "markdown",
   "metadata": {},
   "source": [
    "# Loaded dataset!"
   ]
  },
  {
   "cell_type": "code",
   "execution_count": 94,
   "metadata": {},
   "outputs": [
    {
     "name": "stderr",
     "output_type": "stream",
     "text": [
      "C:\\Users\\16508\\anaconda3\\envs\\lib\\site-packages\\IPython\\core\\interactiveshell.py:3071: DtypeWarning: Columns (14) have mixed types.Specify dtype option on import or set low_memory=False.\n",
      "  has_raised = await self.run_ast_nodes(code_ast.body, cell_name,\n"
     ]
    }
   ],
   "source": [
    "df_intakes = pd.read_csv(r'C:\\Users\\16508\\Desktop\\DATA-228-BIG DATA\\Test\\Shelter_newintake.csv')\n",
    "df_intakes.columns = ['Animal_ID','Name','IntakeDate','FoundLocation','IntakeType','IntakeCondition','AnimalType',\n",
    "                   'SexUponIntake','Breed','Color','DOB','intake_age_days','intake_age_months','intake_age_years','Age']\n",
    "\n",
    "df_outcomes = pd.read_csv(r'C:\\Users\\16508\\Desktop\\DATA-228-BIG DATA\\Test\\Shelter_newoutcome.csv')\n",
    "df_outcomes.columns = ['Animal_ID','Name','Outcome_Date','DOB','Outcome Type','Outcome Subtype','Animal Type',\n",
    "                    'Sex upon Outcome','outcome_age_days','outcome_age_months','outcome_age_years','Breed','Color']"
   ]
  },
  {
   "cell_type": "code",
   "execution_count": 95,
   "metadata": {},
   "outputs": [
    {
     "name": "stdout",
     "output_type": "stream",
     "text": [
      "How many intakes and outcomes do we have?\n",
      "139076 intakes\n",
      "139175 outcomes\n",
      "What are the columns?\n",
      "INTAKE:  Index(['Animal_ID', 'Name', 'IntakeDate', 'FoundLocation', 'IntakeType',\n",
      "       'IntakeCondition', 'AnimalType', 'SexUponIntake', 'Breed', 'Color',\n",
      "       'DOB', 'intake_age_days', 'intake_age_months', 'intake_age_years',\n",
      "       'Age'],\n",
      "      dtype='object')\n",
      "OUTCOMES:  Index(['Animal_ID', 'Name', 'Outcome_Date', 'DOB', 'Outcome Type',\n",
      "       'Outcome Subtype', 'Animal Type', 'Sex upon Outcome',\n",
      "       'outcome_age_days', 'outcome_age_months', 'outcome_age_years', 'Breed',\n",
      "       'Color'],\n",
      "      dtype='object')\n"
     ]
    }
   ],
   "source": [
    "print (\"How many intakes and outcomes do we have?\")\n",
    "print (len(df_intakes), \"intakes\")\n",
    "print (len(df_outcomes), \"outcomes\")\n",
    "print (\"What are the columns?\")\n",
    "print (\"INTAKE: \",df_intakes.columns)\n",
    "print (\"OUTCOMES: \",df_outcomes.columns)"
   ]
  },
  {
   "cell_type": "code",
   "execution_count": 96,
   "metadata": {},
   "outputs": [
    {
     "name": "stdout",
     "output_type": "stream",
     "text": [
      "Animal_ID                0\n",
      "Name                     0\n",
      "IntakeDate               0\n",
      "FoundLocation            0\n",
      "IntakeType               0\n",
      "IntakeCondition          0\n",
      "AnimalType               0\n",
      "SexUponIntake            1\n",
      "Breed                    0\n",
      "Color                    0\n",
      "DOB                    717\n",
      "intake_age_days        717\n",
      "intake_age_months      717\n",
      "intake_age_years       717\n",
      "Age                  75748\n",
      "dtype: int64\n"
     ]
    },
    {
     "data": {
      "text/plain": [
       "True"
      ]
     },
     "execution_count": 96,
     "metadata": {},
     "output_type": "execute_result"
    }
   ],
   "source": [
    "#print(df_intakes.isnull().sum())\n",
    "\n",
    "#df_intakes.isnull().values.any()"
   ]
  },
  {
   "cell_type": "code",
   "execution_count": 112,
   "metadata": {},
   "outputs": [
    {
     "name": "stdout",
     "output_type": "stream",
     "text": [
      "<class 'pandas.core.frame.DataFrame'>\n",
      "RangeIndex: 139076 entries, 0 to 139075\n",
      "Data columns (total 12 columns):\n",
      " #   Column           Non-Null Count   Dtype \n",
      "---  ------           --------------   ----- \n",
      " 0   Animal_ID        139076 non-null  object\n",
      " 1   Name             139076 non-null  object\n",
      " 2   IntakeDate       139076 non-null  object\n",
      " 3   FoundLocation    139076 non-null  object\n",
      " 4   IntakeType       139076 non-null  object\n",
      " 5   IntakeCondition  139076 non-null  object\n",
      " 6   AnimalType       139076 non-null  object\n",
      " 7   SexUponIntake    139075 non-null  object\n",
      " 8   Breed            139076 non-null  object\n",
      " 9   Color            139076 non-null  object\n",
      " 10  DOB              138359 non-null  object\n",
      " 11  Age              139076 non-null  object\n",
      "dtypes: object(12)\n",
      "memory usage: 12.7+ MB\n"
     ]
    }
   ],
   "source": [
    "#df_intakes.drop(['intake_age_days','intake_age_months','intake_age_years'],axis = 1, inplace = True)\n",
    "#df_intakes = df_intakes.dropna()\n",
    "df_intakes.info()\n",
    "#df_intakes['Age'].fillna(\"1-3 years\", inplace=True)"
   ]
  },
  {
   "cell_type": "markdown",
   "metadata": {},
   "source": [
    "## Mearing files!"
   ]
  },
  {
   "cell_type": "code",
   "execution_count": 113,
   "metadata": {},
   "outputs": [
    {
     "name": "stdout",
     "output_type": "stream",
     "text": [
      "Resulting dataframe has 179301 records\n"
     ]
    }
   ],
   "source": [
    "# Create a new dataframe from the inner join between intakes and outcomes\n",
    "records = df_intakes.merge(df_outcomes, how='inner', left_on = 'Animal_ID', right_on = 'Animal_ID', suffixes=('_intake', '_outcome'))\n",
    "print (\"Resulting dataframe has\", len(records), \"records\")"
   ]
  },
  {
   "cell_type": "code",
   "execution_count": 114,
   "metadata": {},
   "outputs": [
    {
     "data": {
      "text/html": [
       "<div>\n",
       "<style scoped>\n",
       "    .dataframe tbody tr th:only-of-type {\n",
       "        vertical-align: middle;\n",
       "    }\n",
       "\n",
       "    .dataframe tbody tr th {\n",
       "        vertical-align: top;\n",
       "    }\n",
       "\n",
       "    .dataframe thead th {\n",
       "        text-align: right;\n",
       "    }\n",
       "</style>\n",
       "<table border=\"1\" class=\"dataframe\">\n",
       "  <thead>\n",
       "    <tr style=\"text-align: right;\">\n",
       "      <th></th>\n",
       "      <th>Animal_ID</th>\n",
       "      <th>Name_intake</th>\n",
       "      <th>IntakeDate</th>\n",
       "      <th>FoundLocation</th>\n",
       "      <th>IntakeType</th>\n",
       "      <th>IntakeCondition</th>\n",
       "      <th>AnimalType</th>\n",
       "      <th>SexUponIntake</th>\n",
       "      <th>Breed_intake</th>\n",
       "      <th>Color_intake</th>\n",
       "      <th>...</th>\n",
       "      <th>DOB_outcome</th>\n",
       "      <th>Outcome Type</th>\n",
       "      <th>Outcome Subtype</th>\n",
       "      <th>Animal Type</th>\n",
       "      <th>Sex upon Outcome</th>\n",
       "      <th>outcome_age_days</th>\n",
       "      <th>outcome_age_months</th>\n",
       "      <th>outcome_age_years</th>\n",
       "      <th>Breed_outcome</th>\n",
       "      <th>Color_outcome</th>\n",
       "    </tr>\n",
       "  </thead>\n",
       "  <tbody>\n",
       "    <tr>\n",
       "      <th>0</th>\n",
       "      <td>A786884</td>\n",
       "      <td>Brock</td>\n",
       "      <td>3/1/2019</td>\n",
       "      <td>2501 Magin Meadow Dr in Austin (TX)</td>\n",
       "      <td>Stray</td>\n",
       "      <td>Normal</td>\n",
       "      <td>Dog</td>\n",
       "      <td>Neutered Male</td>\n",
       "      <td>Beagle Mix</td>\n",
       "      <td>Tricolor</td>\n",
       "      <td>...</td>\n",
       "      <td>1/3/2017</td>\n",
       "      <td>Transfer</td>\n",
       "      <td>Partner</td>\n",
       "      <td>Dog</td>\n",
       "      <td>Neutered Male</td>\n",
       "      <td>735</td>\n",
       "      <td>24</td>\n",
       "      <td>2</td>\n",
       "      <td>Beagle Mix</td>\n",
       "      <td>Tricolor</td>\n",
       "    </tr>\n",
       "    <tr>\n",
       "      <th>1</th>\n",
       "      <td>A706918</td>\n",
       "      <td>Belle</td>\n",
       "      <td>5/7/2015</td>\n",
       "      <td>9409 Bluegrass Dr in Austin (TX)</td>\n",
       "      <td>Stray</td>\n",
       "      <td>Normal</td>\n",
       "      <td>Dog</td>\n",
       "      <td>Spayed Female</td>\n",
       "      <td>English Springer Spaniel</td>\n",
       "      <td>White &amp; Liver</td>\n",
       "      <td>...</td>\n",
       "      <td>7/5/2007</td>\n",
       "      <td>Return to Owner</td>\n",
       "      <td>NaN</td>\n",
       "      <td>Dog</td>\n",
       "      <td>Spayed Female</td>\n",
       "      <td>2922</td>\n",
       "      <td>96</td>\n",
       "      <td>8</td>\n",
       "      <td>English Springer Spaniel</td>\n",
       "      <td>White &amp; Liver</td>\n",
       "    </tr>\n",
       "    <tr>\n",
       "      <th>2</th>\n",
       "      <td>A724273</td>\n",
       "      <td>Runster</td>\n",
       "      <td>4/14/2016</td>\n",
       "      <td>2818 Palomino Trail in Austin (TX)</td>\n",
       "      <td>Stray</td>\n",
       "      <td>Normal</td>\n",
       "      <td>Dog</td>\n",
       "      <td>Intact Male</td>\n",
       "      <td>Basenji Mix</td>\n",
       "      <td>Sable &amp; White</td>\n",
       "      <td>...</td>\n",
       "      <td>4/17/2015</td>\n",
       "      <td>Return to Owner</td>\n",
       "      <td>NaN</td>\n",
       "      <td>Dog</td>\n",
       "      <td>Neutered Male</td>\n",
       "      <td>370</td>\n",
       "      <td>12</td>\n",
       "      <td>1</td>\n",
       "      <td>Basenji Mix</td>\n",
       "      <td>Sable &amp; White</td>\n",
       "    </tr>\n",
       "    <tr>\n",
       "      <th>3</th>\n",
       "      <td>A665644</td>\n",
       "      <td>Dummy</td>\n",
       "      <td>10/21/2013</td>\n",
       "      <td>Austin (TX)</td>\n",
       "      <td>Stray</td>\n",
       "      <td>Sick</td>\n",
       "      <td>Cat</td>\n",
       "      <td>Intact Female</td>\n",
       "      <td>Domestic Shorthair Mix</td>\n",
       "      <td>Calico</td>\n",
       "      <td>...</td>\n",
       "      <td>9/21/2013</td>\n",
       "      <td>Transfer</td>\n",
       "      <td>Partner</td>\n",
       "      <td>Cat</td>\n",
       "      <td>Intact Female</td>\n",
       "      <td>30</td>\n",
       "      <td>1</td>\n",
       "      <td>0</td>\n",
       "      <td>Domestic Shorthair Mix</td>\n",
       "      <td>Calico</td>\n",
       "    </tr>\n",
       "    <tr>\n",
       "      <th>4</th>\n",
       "      <td>A682524</td>\n",
       "      <td>Rio</td>\n",
       "      <td>6/29/2014</td>\n",
       "      <td>800 Grove Blvd in Austin (TX)</td>\n",
       "      <td>Stray</td>\n",
       "      <td>Normal</td>\n",
       "      <td>Dog</td>\n",
       "      <td>Neutered Male</td>\n",
       "      <td>Doberman Pinsch &amp; Australian Cattle Dog</td>\n",
       "      <td>Tan &amp; Gray</td>\n",
       "      <td>...</td>\n",
       "      <td>6/29/2010</td>\n",
       "      <td>Return to Owner</td>\n",
       "      <td>NaN</td>\n",
       "      <td>Dog</td>\n",
       "      <td>Neutered Male</td>\n",
       "      <td>1464</td>\n",
       "      <td>48</td>\n",
       "      <td>4</td>\n",
       "      <td>Doberman Pinsch &amp; Australian Cattle Dog</td>\n",
       "      <td>Tan &amp; Gray</td>\n",
       "    </tr>\n",
       "  </tbody>\n",
       "</table>\n",
       "<p>5 rows × 24 columns</p>\n",
       "</div>"
      ],
      "text/plain": [
       "  Animal_ID Name_intake  IntakeDate                        FoundLocation  \\\n",
       "0   A786884       Brock    3/1/2019  2501 Magin Meadow Dr in Austin (TX)   \n",
       "1   A706918       Belle    5/7/2015     9409 Bluegrass Dr in Austin (TX)   \n",
       "2   A724273     Runster   4/14/2016   2818 Palomino Trail in Austin (TX)   \n",
       "3   A665644       Dummy  10/21/2013                          Austin (TX)   \n",
       "4   A682524         Rio   6/29/2014        800 Grove Blvd in Austin (TX)   \n",
       "\n",
       "  IntakeType IntakeCondition AnimalType  SexUponIntake  \\\n",
       "0      Stray          Normal        Dog  Neutered Male   \n",
       "1      Stray          Normal        Dog  Spayed Female   \n",
       "2      Stray          Normal        Dog    Intact Male   \n",
       "3      Stray            Sick        Cat  Intact Female   \n",
       "4      Stray          Normal        Dog  Neutered Male   \n",
       "\n",
       "                              Breed_intake   Color_intake  ... DOB_outcome  \\\n",
       "0                               Beagle Mix       Tricolor  ...    1/3/2017   \n",
       "1                 English Springer Spaniel  White & Liver  ...    7/5/2007   \n",
       "2                              Basenji Mix  Sable & White  ...   4/17/2015   \n",
       "3                   Domestic Shorthair Mix         Calico  ...   9/21/2013   \n",
       "4  Doberman Pinsch & Australian Cattle Dog     Tan & Gray  ...   6/29/2010   \n",
       "\n",
       "      Outcome Type Outcome Subtype Animal Type Sex upon Outcome  \\\n",
       "0         Transfer         Partner         Dog    Neutered Male   \n",
       "1  Return to Owner             NaN         Dog    Spayed Female   \n",
       "2  Return to Owner             NaN         Dog    Neutered Male   \n",
       "3         Transfer         Partner         Cat    Intact Female   \n",
       "4  Return to Owner             NaN         Dog    Neutered Male   \n",
       "\n",
       "  outcome_age_days outcome_age_months outcome_age_years  \\\n",
       "0              735                 24                 2   \n",
       "1             2922                 96                 8   \n",
       "2              370                 12                 1   \n",
       "3               30                  1                 0   \n",
       "4             1464                 48                 4   \n",
       "\n",
       "                             Breed_outcome  Color_outcome  \n",
       "0                               Beagle Mix       Tricolor  \n",
       "1                 English Springer Spaniel  White & Liver  \n",
       "2                              Basenji Mix  Sable & White  \n",
       "3                   Domestic Shorthair Mix         Calico  \n",
       "4  Doberman Pinsch & Australian Cattle Dog     Tan & Gray  \n",
       "\n",
       "[5 rows x 24 columns]"
      ]
     },
     "execution_count": 114,
     "metadata": {},
     "output_type": "execute_result"
    }
   ],
   "source": [
    "records.head()"
   ]
  },
  {
   "cell_type": "markdown",
   "metadata": {},
   "source": [
    "## Data Cleaning\n",
    "Fixing records that don't match and dropping irrelevant columns"
   ]
  },
  {
   "cell_type": "code",
   "execution_count": 115,
   "metadata": {},
   "outputs": [
    {
     "name": "stdout",
     "output_type": "stream",
     "text": [
      "<class 'pandas.core.frame.DataFrame'>\n",
      "Int64Index: 179301 entries, 0 to 179300\n",
      "Data columns (total 18 columns):\n",
      " #   Column              Non-Null Count   Dtype \n",
      "---  ------              --------------   ----- \n",
      " 0   Animal_ID           179301 non-null  object\n",
      " 1   Name_intake         179301 non-null  object\n",
      " 2   IntakeDate          179301 non-null  object\n",
      " 3   FoundLocation       179301 non-null  object\n",
      " 4   IntakeType          179301 non-null  object\n",
      " 5   IntakeCondition     179301 non-null  object\n",
      " 6   AnimalType          179301 non-null  object\n",
      " 7   SexUponIntake       179300 non-null  object\n",
      " 8   Breed_intake        179301 non-null  object\n",
      " 9   Color_intake        179301 non-null  object\n",
      " 10  Age                 179301 non-null  object\n",
      " 11  Name_outcome        179301 non-null  object\n",
      " 12  Outcome_Date        179301 non-null  object\n",
      " 13  Outcome Type        179267 non-null  object\n",
      " 14  Sex upon Outcome    179300 non-null  object\n",
      " 15  outcome_age_days    179301 non-null  object\n",
      " 16  outcome_age_months  179301 non-null  object\n",
      " 17  outcome_age_years   179301 non-null  object\n",
      "dtypes: object(18)\n",
      "memory usage: 26.0+ MB\n"
     ]
    }
   ],
   "source": [
    "#Animal Type, Breed and Color are all consistent across intake and outake.\n",
    "#DOB appears to be irrelevant because every animal has a DOB even if they were not born in the shelter!\n",
    "records.drop(['Animal Type','Breed_outcome','Color_outcome','DOB_intake','DOB_outcome','Outcome Subtype'],axis = 1, inplace = True)\n",
    "records.info()"
   ]
  },
  {
   "cell_type": "markdown",
   "metadata": {},
   "source": [
    "## Feature Engineering or Extraction!"
   ]
  },
  {
   "cell_type": "markdown",
   "metadata": {},
   "source": [
    "**Extract \"Spayed\" and \"Intact\" and whether or not that changed during their time in the shelter, and Gender**"
   ]
  },
  {
   "cell_type": "code",
   "execution_count": 116,
   "metadata": {},
   "outputs": [
    {
     "data": {
      "text/plain": [
       " 0    115295\n",
       " 1     63439\n",
       "-1       567\n",
       "Name: fixed_changed, dtype: int64"
      ]
     },
     "execution_count": 116,
     "metadata": {},
     "output_type": "execute_result"
    }
   ],
   "source": [
    "#from StringIO import StringIO\n",
    "def get_gender(val):\n",
    "    try:\n",
    "        val_list = val.split(' ')\n",
    "        return val_list[1]\n",
    "    except:\n",
    "        return np.nan\n",
    "def get_fixed(val):\n",
    "    try:\n",
    "        val_list = val.split(' ')\n",
    "        return val_list[0]\n",
    "    except:\n",
    "        return np.nan\n",
    "\n",
    "records['Gender'] = records['SexUponIntake'].apply(get_gender)\n",
    "records['fixed_intake'] = records['SexUponIntake'].apply(get_fixed)\n",
    "records['fixed_outcome'] = records['Sex upon Outcome'].apply(get_fixed)\n",
    "\n",
    "records['fixed_changed'] = 0\n",
    "mask = (records['fixed_intake'] == \"Intact\") & (records['fixed_outcome'] != \"Intact\")\n",
    "records.loc[mask, 'fixed_changed'] = 1\n",
    "mask = (records['fixed_intake'] != \"Intact\") & (records['fixed_outcome'] == \"Intact\")\n",
    "records.loc[mask, 'fixed_changed'] = -1\n",
    "\n",
    "records['fixed_changed'].value_counts()"
   ]
  },
  {
   "cell_type": "markdown",
   "metadata": {},
   "source": [
    "# Creating \"Age\" into buckets for better analysis!"
   ]
  },
  {
   "cell_type": "code",
   "execution_count": 117,
   "metadata": {},
   "outputs": [
    {
     "data": {
      "text/plain": [
       "1-3 years           130929\n",
       "1-6 months           20037\n",
       "4-6 years             8663\n",
       "1-6 weeks             8252\n",
       "7+ years              5768\n",
       "7-12 months           4000\n",
       "Less than 1 week      1652\n",
       "Name: Age_Bucket, dtype: int64"
      ]
     },
     "execution_count": 117,
     "metadata": {},
     "output_type": "execute_result"
    }
   ],
   "source": [
    "import re\n",
    "\n",
    "def get_age_bucket(val):\n",
    "    if re.search(\"day\", val):\n",
    "        return \"Less than 1 week\"\n",
    "    elif re.search(\"week\", val):\n",
    "        return \"1-6 weeks\"\n",
    "    elif re.search(\"[1,2,3,4,5,6] month\", val):\n",
    "        return \"1-6 months\"\n",
    "    elif re.search(\"[7,8,9,10,11,12] month\", val):\n",
    "        return \"7-12 months\"\n",
    "    elif re.search(\"[1,2,3] year\", val):\n",
    "        return \"1-3 years\"\n",
    "    elif re.search(\"[4,5,6] year\", val):\n",
    "        return \"4-6 years\"\n",
    "    elif re.search(\"year\", val):\n",
    "        return \"7+ years\"\n",
    "    else:\n",
    "        return \"other\"\n",
    "\n",
    "records['Age_Bucket'] = records['Age'].apply(get_age_bucket)\n",
    "records['Age_Bucket'].value_counts()"
   ]
  },
  {
   "cell_type": "markdown",
   "metadata": {},
   "source": [
    "**Extract popular types of breeds from mix (i.e. pit bull, chihuahua)**\n",
    "\n",
    "Retriever, Shepherd, Beagle, Terrier, Boxer, Poodle, Rottweiler, Dachshund, Chihuahua, Pit Bull"
   ]
  },
  {
   "cell_type": "code",
   "execution_count": 118,
   "metadata": {},
   "outputs": [],
   "source": [
    "def get_breed(val, type):\n",
    "    val = val.lower()\n",
    "    if re.search(type,val):\n",
    "        return 1\n",
    "    else:\n",
    "        return 0\n",
    "\n",
    "types = ['retriever','shepherd','beagle','terrier','boxer','poodle','rottweiler','dachshund','chihuahua','pit bull']\n",
    "for t in types:\n",
    "    records[t] = records['Breed_intake'].apply(get_breed, args=(t,))"
   ]
  },
  {
   "cell_type": "markdown",
   "metadata": {},
   "source": [
    "# Difference in intake and outcome dates to see how long animals were at shelter, then bucket them!"
   ]
  },
  {
   "cell_type": "code",
   "execution_count": 119,
   "metadata": {},
   "outputs": [
    {
     "data": {
      "text/plain": [
       "0-7 days               53528\n",
       "1-3 weeks              17666\n",
       "12 weeks - 6 months    15890\n",
       "6-12 months            15582\n",
       "7-12 weeks             13443\n",
       "3-6 weeks              13013\n",
       "1-2 years               3935\n",
       "2+ years                3193\n",
       "Name: Days_length, dtype: int64"
      ]
     },
     "execution_count": 119,
     "metadata": {},
     "output_type": "execute_result"
    }
   ],
   "source": [
    "records['IntakeDate'] = pd.to_datetime(records['IntakeDate'])\n",
    "records['Outcome_Date'] = pd.to_datetime(records['Outcome_Date'])\n",
    "records['DateTime_length'] = records['Outcome_Date'] - records['IntakeDate']\n",
    "\n",
    "def get_days_length(val):\n",
    "    val = str(val)\n",
    "    days = re.findall('\\d*',val)[0]\n",
    "    try:\n",
    "        days = int(days)\n",
    "        if days <= 7:\n",
    "            return \"0-7 days\"\n",
    "        elif days <= 21:\n",
    "            return \"1-3 weeks\"\n",
    "        elif days <= 42:\n",
    "            return \"3-6 weeks\"\n",
    "        elif days <= 84:\n",
    "            return \"7-12 weeks\"\n",
    "        elif days <= 168:\n",
    "            return \"12 weeks - 6 months\"\n",
    "        elif days <= 365:\n",
    "            return \"6-12 months\"\n",
    "        elif days <= 730:\n",
    "            return \"1-2 years\"\n",
    "        else:\n",
    "            return \"2+ years\"\n",
    "    except:\n",
    "        return np.nan\n",
    "\n",
    "records['Days_length'] = records['DateTime_length'].apply(get_days_length)\n",
    "records['Days_length'].value_counts()"
   ]
  },
  {
   "cell_type": "markdown",
   "metadata": {},
   "source": [
    "# <span style=\"color:blue\">Analysis!</span> "
   ]
  },
  {
   "cell_type": "markdown",
   "metadata": {},
   "source": [
    "## 1)How many animals come in as a euthanasia request and dont get euthanized?"
   ]
  },
  {
   "cell_type": "code",
   "execution_count": 123,
   "metadata": {},
   "outputs": [
    {
     "name": "stdout",
     "output_type": "stream",
     "text": [
      "81 animals\n"
     ]
    }
   ],
   "source": [
    "mask = (records['IntakeType'] == \"Euthanasia Request\") & (records['Outcome Type'] != \"Euthanasia\")\n",
    "print (len(records[mask]), \"animals\")"
   ]
  },
  {
   "cell_type": "markdown",
   "metadata": {},
   "source": [
    "## 2)How accurate are these records of intake and outcome? What discrepencies can we find?"
   ]
  },
  {
   "cell_type": "code",
   "execution_count": 216,
   "metadata": {},
   "outputs": [
    {
     "name": "stdout",
     "output_type": "stream",
     "text": [
      "568 animals were un-neutered/spayed during their time!\n"
     ]
    }
   ],
   "source": [
    "mask = (records['SexUponIntake'] != records['Sex upon Outcome']) & ((records['Sex upon Outcome'] != \"Spayed Female\") & (records['Sex upon Outcome'] != \"Neutered Male\"))\n",
    "print (len(records[mask]), \"animals were un-neutered/spayed during their time!\")"
   ]
  },
  {
   "cell_type": "markdown",
   "metadata": {},
   "source": [
    "## 3)How many animals are spayed/neutered during their time in the shelter?"
   ]
  },
  {
   "cell_type": "code",
   "execution_count": 217,
   "metadata": {},
   "outputs": [
    {
     "name": "stdout",
     "output_type": "stream",
     "text": [
      "63439 animals were neutered/spayed during their time!\n"
     ]
    }
   ],
   "source": [
    "mask = (records['SexUponIntake'] != records['Sex upon Outcome']) & ((records['Sex upon Outcome'] == \"Spayed Female\") | (records['Sex upon Outcome'] == \"Neutered Male\"))\n",
    "print (len(records[mask]), \"animals were neutered/spayed during their time!\")"
   ]
  },
  {
   "cell_type": "markdown",
   "metadata": {},
   "source": [
    "## 4)Distribution of intake type and  which are some of intake types that are more likely to be adopted/euthanized?"
   ]
  },
  {
   "cell_type": "code",
   "execution_count": 129,
   "metadata": {},
   "outputs": [
    {
     "data": {
      "text/plain": [
       "<matplotlib.axes._subplots.AxesSubplot at 0x14b9cf290a0>"
      ]
     },
     "execution_count": 129,
     "metadata": {},
     "output_type": "execute_result"
    },
    {
     "data": {
      "image/png": "[encoded data removed]",
      "text/plain": [
       "<Figure size 1080x360 with 2 Axes>"
      ]
     },
     "metadata": {
      "needs_background": "light"
     },
     "output_type": "display_data"
    }
   ],
   "source": [
    "fig, axes = plt.subplots(nrows=1, ncols=2)\n",
    "records['IntakeType'].value_counts().plot(kind='bar', ax=axes[0], figsize=(15,5), title = \"Distribution of intake types\")\n",
    "records['IntakeCondition'].value_counts().plot(kind='bar', ax=axes[1], figsize=(15,5), title = \"Distribution of intake condition\")"
   ]
  },
  {
   "cell_type": "code",
   "execution_count": 132,
   "metadata": {},
   "outputs": [
    {
     "data": {
      "text/html": [
       "<div>\n",
       "<style scoped>\n",
       "    .dataframe tbody tr th:only-of-type {\n",
       "        vertical-align: middle;\n",
       "    }\n",
       "\n",
       "    .dataframe tbody tr th {\n",
       "        vertical-align: top;\n",
       "    }\n",
       "\n",
       "    .dataframe thead th {\n",
       "        text-align: right;\n",
       "    }\n",
       "</style>\n",
       "<table border=\"1\" class=\"dataframe\">\n",
       "  <thead>\n",
       "    <tr style=\"text-align: right;\">\n",
       "      <th></th>\n",
       "      <th>Abandoned</th>\n",
       "      <th>Euthanasia Request</th>\n",
       "      <th>Owner Surrender</th>\n",
       "      <th>Public Assist</th>\n",
       "      <th>Stray</th>\n",
       "      <th>Wildlife</th>\n",
       "    </tr>\n",
       "    <tr>\n",
       "      <th>Outcome Type</th>\n",
       "      <th></th>\n",
       "      <th></th>\n",
       "      <th></th>\n",
       "      <th></th>\n",
       "      <th></th>\n",
       "      <th></th>\n",
       "    </tr>\n",
       "  </thead>\n",
       "  <tbody>\n",
       "    <tr>\n",
       "      <th>Adoption</th>\n",
       "      <td>57.195572</td>\n",
       "      <td>7.746479</td>\n",
       "      <td>68.824085</td>\n",
       "      <td>16.662926</td>\n",
       "      <td>43.996549</td>\n",
       "      <td>0.129894</td>\n",
       "    </tr>\n",
       "    <tr>\n",
       "      <th>Died</th>\n",
       "      <td>0.492005</td>\n",
       "      <td>1.056338</td>\n",
       "      <td>0.467532</td>\n",
       "      <td>0.389076</td>\n",
       "      <td>0.808945</td>\n",
       "      <td>2.653554</td>\n",
       "    </tr>\n",
       "    <tr>\n",
       "      <th>Disposal</th>\n",
       "      <td>0.492005</td>\n",
       "      <td>0.704225</td>\n",
       "      <td>0.033058</td>\n",
       "      <td>0.448934</td>\n",
       "      <td>0.123008</td>\n",
       "      <td>7.737985</td>\n",
       "    </tr>\n",
       "    <tr>\n",
       "      <th>Euthanasia</th>\n",
       "      <td>0.738007</td>\n",
       "      <td>71.478873</td>\n",
       "      <td>2.066116</td>\n",
       "      <td>3.965582</td>\n",
       "      <td>2.708728</td>\n",
       "      <td>87.901280</td>\n",
       "    </tr>\n",
       "    <tr>\n",
       "      <th>Missing</th>\n",
       "      <td>NaN</td>\n",
       "      <td>NaN</td>\n",
       "      <td>0.033058</td>\n",
       "      <td>0.044893</td>\n",
       "      <td>0.065775</td>\n",
       "      <td>0.037113</td>\n",
       "    </tr>\n",
       "    <tr>\n",
       "      <th>Relocate</th>\n",
       "      <td>NaN</td>\n",
       "      <td>NaN</td>\n",
       "      <td>NaN</td>\n",
       "      <td>NaN</td>\n",
       "      <td>0.008542</td>\n",
       "      <td>0.259788</td>\n",
       "    </tr>\n",
       "    <tr>\n",
       "      <th>Return to Owner</th>\n",
       "      <td>9.717097</td>\n",
       "      <td>5.985915</td>\n",
       "      <td>7.234947</td>\n",
       "      <td>65.394688</td>\n",
       "      <td>22.776895</td>\n",
       "      <td>0.074225</td>\n",
       "    </tr>\n",
       "    <tr>\n",
       "      <th>Rto-Adopt</th>\n",
       "      <td>2.214022</td>\n",
       "      <td>NaN</td>\n",
       "      <td>1.031877</td>\n",
       "      <td>1.855593</td>\n",
       "      <td>0.801257</td>\n",
       "      <td>NaN</td>\n",
       "    </tr>\n",
       "    <tr>\n",
       "      <th>Transfer</th>\n",
       "      <td>29.151292</td>\n",
       "      <td>13.028169</td>\n",
       "      <td>20.309327</td>\n",
       "      <td>11.238309</td>\n",
       "      <td>28.710300</td>\n",
       "      <td>1.206161</td>\n",
       "    </tr>\n",
       "  </tbody>\n",
       "</table>\n",
       "</div>"
      ],
      "text/plain": [
       "                 Abandoned  Euthanasia Request  Owner Surrender  \\\n",
       "Outcome Type                                                      \n",
       "Adoption         57.195572            7.746479        68.824085   \n",
       "Died              0.492005            1.056338         0.467532   \n",
       "Disposal          0.492005            0.704225         0.033058   \n",
       "Euthanasia        0.738007           71.478873         2.066116   \n",
       "Missing                NaN                 NaN         0.033058   \n",
       "Relocate               NaN                 NaN              NaN   \n",
       "Return to Owner   9.717097            5.985915         7.234947   \n",
       "Rto-Adopt         2.214022                 NaN         1.031877   \n",
       "Transfer         29.151292           13.028169        20.309327   \n",
       "\n",
       "                 Public Assist      Stray   Wildlife  \n",
       "Outcome Type                                          \n",
       "Adoption             16.662926  43.996549   0.129894  \n",
       "Died                  0.389076   0.808945   2.653554  \n",
       "Disposal              0.448934   0.123008   7.737985  \n",
       "Euthanasia            3.965582   2.708728  87.901280  \n",
       "Missing               0.044893   0.065775   0.037113  \n",
       "Relocate                   NaN   0.008542   0.259788  \n",
       "Return to Owner      65.394688  22.776895   0.074225  \n",
       "Rto-Adopt             1.855593   0.801257        NaN  \n",
       "Transfer             11.238309  28.710300   1.206161  "
      ]
     },
     "execution_count": 132,
     "metadata": {},
     "output_type": "execute_result"
    }
   ],
   "source": [
    "intake_gb = records.groupby(['IntakeType','Outcome Type'])['Outcome Type'].count().unstack()\n",
    "intake_gb = intake_gb.T\n",
    "\n",
    "def get_perc(val,col):\n",
    "    return val / intake_gb[col].sum() * 100\n",
    "\n",
    "intake_gb_perc = pd.DataFrame()\n",
    "for col in intake_gb.columns:\n",
    "    intake_gb_perc[col] = intake_gb[col].apply(get_perc, args=(col,))\n",
    "\n",
    "intake_gb_perc"
   ]
  },
  {
   "cell_type": "code",
   "execution_count": 134,
   "metadata": {},
   "outputs": [
    {
     "name": "stdout",
     "output_type": "stream",
     "text": [
      "Outcome Type\n",
      "Adoption    57.195572\n",
      "Transfer    29.151292\n",
      "Name: Abandoned, dtype: float64\n",
      "Outcome Type\n",
      "Euthanasia    71.478873\n",
      "Transfer      13.028169\n",
      "Name: Euthanasia Request, dtype: float64\n",
      "Outcome Type\n",
      "Adoption    68.824085\n",
      "Transfer    20.309327\n",
      "Name: Owner Surrender, dtype: float64\n",
      "Outcome Type\n",
      "Return to Owner    65.394688\n",
      "Adoption           16.662926\n",
      "Name: Public Assist, dtype: float64\n",
      "Outcome Type\n",
      "Adoption    43.996549\n",
      "Transfer    28.710300\n",
      "Name: Stray, dtype: float64\n",
      "Outcome Type\n",
      "Euthanasia    87.901280\n",
      "Disposal       7.737985\n",
      "Name: Wildlife, dtype: float64\n"
     ]
    }
   ],
   "source": [
    "# What are the top two outcomes by intake type?\n",
    "def find_top_two_outcomes(col):\n",
    "    col = col.sort_values(ascending=False)\n",
    "    print (col[:2])\n",
    "\n",
    "for col in intake_gb_perc.columns:\n",
    "    find_top_two_outcomes(intake_gb_perc[col])"
   ]
  },
  {
   "cell_type": "markdown",
   "metadata": {},
   "source": [
    "## 5)How long does the average animal spend in the shelter? Does that differ based on animal type/gender/age? Which types of animals are adopted the quickest?"
   ]
  },
  {
   "cell_type": "code",
   "execution_count": 136,
   "metadata": {},
   "outputs": [
    {
     "name": "stdout",
     "output_type": "stream",
     "text": [
      "Median 6 days 00:00:00 -- true average stay\n",
      "Mean 20 days 20:02:21.911088 -- mean is skewed by animals with long stays\n",
      "Mode 0   0 days\n",
      "dtype: timedelta64[ns] -- most likely transfered\n"
     ]
    },
    {
     "data": {
      "text/plain": [
       "<matplotlib.axes._subplots.AxesSubplot at 0x14b979a6e80>"
      ]
     },
     "execution_count": 136,
     "metadata": {},
     "output_type": "execute_result"
    },
    {
     "data": {
      "image/png": "[encoded data removed]",
      "text/plain": [
       "<Figure size 432x288 with 1 Axes>"
      ]
     },
     "metadata": {
      "needs_background": "light"
     },
     "output_type": "display_data"
    }
   ],
   "source": [
    "print (\"Median\", records[\"DateTime_length\"].median(), \"-- average stay\")\n",
    "print (\"Mean\", records[\"DateTime_length\"].mean(), \"-- animals with long stays\")\n",
    "print (\"Mode\", records[\"DateTime_length\"].mode(), \"-- most likely transfered\")\n",
    "records['Days_length'].value_counts().plot(kind=\"bar\")"
   ]
  },
  {
   "cell_type": "markdown",
   "metadata": {},
   "source": [
    "### What kinds of animals are in the shelter? How does that affect length of stay?"
   ]
  },
  {
   "cell_type": "code",
   "execution_count": 138,
   "metadata": {},
   "outputs": [
    {
     "data": {
      "text/plain": [
       "Dog          113429\n",
       "Cat           57736\n",
       "Other          7450\n",
       "Bird            662\n",
       "Livestock        24\n",
       "Name: AnimalType, dtype: int64"
      ]
     },
     "execution_count": 138,
     "metadata": {},
     "output_type": "execute_result"
    }
   ],
   "source": [
    "records['AnimalType'].value_counts()"
   ]
  },
  {
   "cell_type": "code",
   "execution_count": 139,
   "metadata": {},
   "outputs": [
    {
     "data": {
      "text/plain": [
       "<matplotlib.axes._subplots.AxesSubplot at 0x14ba6e4fe20>"
      ]
     },
     "execution_count": 139,
     "metadata": {},
     "output_type": "execute_result"
    },
    {
     "data": {
      "image/png": "[encoded data removed]",
      "text/plain": [
       "<Figure size 1080x720 with 4 Axes>"
      ]
     },
     "metadata": {
      "needs_background": "light"
     },
     "output_type": "display_data"
    }
   ],
   "source": [
    "fig, axes = plt.subplots(nrows=2, ncols=2)\n",
    "fig.subplots_adjust(hspace=1, wspace = .5)\n",
    "\n",
    "records[records[\"AnimalType\"] == \"Dog\"]['Days_length'].value_counts().plot(kind='bar',ax=axes[0,0], figsize=(15,10), title = \"Length of stay for Dogs\")\n",
    "records[records[\"AnimalType\"] == \"Cat\"]['Days_length'].value_counts().plot(kind='bar',ax=axes[0,1], figsize=(15,10), title = \"Length of stay for Cats\")\n",
    "records[records[\"AnimalType\"] == \"Other\"]['Days_length'].value_counts().plot(kind='bar',ax=axes[1,0], figsize=(15,10), title = \"Length of stay for Other\")\n",
    "records[records[\"AnimalType\"] == \"Bird\"]['Days_length'].value_counts().plot(kind='bar',ax=axes[1,1], figsize=(15,10), title = \"Length of stay for Birds\")\n",
    "records[records[\"AnimalType\"] == \"Livestock\"]['Days_length'].value_counts().plot(kind='bar',ax=axes[1,1], figsize=(15,10), title = \"Length of Livestock\")"
   ]
  },
  {
   "cell_type": "markdown",
   "metadata": {},
   "source": [
    "### Is there a significant difference between length of stay for Dogs and Cats?\n"
   ]
  },
  {
   "cell_type": "code",
   "execution_count": 141,
   "metadata": {},
   "outputs": [
    {
     "name": "stdout",
     "output_type": "stream",
     "text": [
      "Dog Mean:  18 days 14:18:23.781219\n",
      "Dog Median:  6 days 00:00:00\n",
      "Cat Mean:  27 days 15:09:27.160870\n",
      "Cat Median:  8 days 00:00:00\n",
      "Ttest_indResult(statistic=-6.148200519207461, pvalue=7.853919856431647e-10)\n"
     ]
    }
   ],
   "source": [
    "from scipy.stats import ttest_ind\n",
    "\n",
    "dog_records = records[records[\"AnimalType\"] == \"Dog\"]\n",
    "cat_records = records[records[\"AnimalType\"] == \"Cat\"]\n",
    "\n",
    "print (\"Dog Mean: \", dog_records[\"DateTime_length\"].mean())\n",
    "print (\"Dog Median: \", dog_records[\"DateTime_length\"].median())\n",
    "print (\"Cat Mean: \", cat_records[\"DateTime_length\"].mean())\n",
    "print (\"Cat Median: \", cat_records[\"DateTime_length\"].median())\n",
    "print (ttest_ind(dog_records[\"DateTime_length\"].astype('timedelta64[D]'), cat_records[\"DateTime_length\"].astype('timedelta64[D]')))"
   ]
  },
  {
   "cell_type": "markdown",
   "metadata": {},
   "source": [
    "#### Observation:- Average length of stay is slightly longer for cats."
   ]
  },
  {
   "cell_type": "markdown",
   "metadata": {},
   "source": [
    "### Given an animal is adopted, is there a significant difference between length of stay for Dogs and Cats?\n"
   ]
  },
  {
   "cell_type": "code",
   "execution_count": 142,
   "metadata": {},
   "outputs": [
    {
     "name": "stdout",
     "output_type": "stream",
     "text": [
      "Dog Adopted Mean:  25 days 11:05:54.192471\n",
      "Dog Adopted Median:  8 days 00:00:00\n",
      "Cat Adopted Mean:  39 days 07:13:45.961977\n",
      "Cat Adopted Median:  29 days 00:00:00\n",
      "Ttest_indResult(statistic=-7.250291558605658, pvalue=4.1950846713551154e-13)\n"
     ]
    }
   ],
   "source": [
    "dog_adopted_records = dog_records[dog_records[\"Outcome Type\"] == \"Adoption\"]\n",
    "cat_adopted_records = cat_records[cat_records[\"Outcome Type\"] == \"Adoption\"]\n",
    "\n",
    "print (\"Dog Adopted Mean: \", dog_adopted_records[\"DateTime_length\"].mean())\n",
    "print (\"Dog Adopted Median: \", dog_adopted_records[\"DateTime_length\"].median())\n",
    "print (\"Cat Adopted Mean: \", cat_adopted_records[\"DateTime_length\"].mean())\n",
    "print (\"Cat Adopted Median: \", cat_adopted_records[\"DateTime_length\"].median())\n",
    "print (ttest_ind(dog_adopted_records[\"DateTime_length\"].astype('timedelta64[D]'), cat_adopted_records[\"DateTime_length\"].astype('timedelta64[D]')))"
   ]
  },
  {
   "cell_type": "markdown",
   "metadata": {},
   "source": [
    "#### Observation:- Average length of stay for adoptions is significantly longer for cats."
   ]
  },
  {
   "cell_type": "markdown",
   "metadata": {},
   "source": [
    "### Given an animal is adopted, is there a significant difference between length of stay for Female vs Male dogs and cats?\n"
   ]
  },
  {
   "cell_type": "code",
   "execution_count": 144,
   "metadata": {},
   "outputs": [
    {
     "name": "stdout",
     "output_type": "stream",
     "text": [
      "Male Dog Adopted Mean:  26 days 08:45:03.249097\n",
      "Female Dog Adopted Mean:  24 days 12:00:35.347749\n",
      "Male Cat Adopted Mean:  37 days 16:15:37.021642\n",
      "Female Cat Adopted Mean:  40 days 20:47:27.827885\n",
      "Male vs Female Dog Ttest_indResult(statistic=0.7671455554753858, pvalue=0.4429983382185665)\n",
      "Male vs Female Cat Ttest_indResult(statistic=-1.2540292463370706, pvalue=0.20984167750275293)\n"
     ]
    }
   ],
   "source": [
    "male_dog_adopted_records = dog_adopted_records[dog_adopted_records[\"Gender\"] == \"Male\"]\n",
    "female_dog_adopted_records = dog_adopted_records[dog_adopted_records[\"Gender\"] == \"Female\"]\n",
    "male_cat_adopted_records = cat_adopted_records[cat_adopted_records[\"Gender\"] == \"Male\"]\n",
    "female_cat_adopted_records = cat_adopted_records[cat_adopted_records[\"Gender\"] == \"Female\"]\n",
    "\n",
    "print (\"Male Dog Adopted Mean: \", male_dog_adopted_records[\"DateTime_length\"].mean())\n",
    "print (\"Female Dog Adopted Mean: \", female_dog_adopted_records[\"DateTime_length\"].mean())\n",
    "print (\"Male Cat Adopted Mean: \", male_cat_adopted_records[\"DateTime_length\"].mean())\n",
    "print (\"Female Cat Adopted Mean: \", female_cat_adopted_records[\"DateTime_length\"].mean())\n",
    "\n",
    "print (\"Male vs Female Dog\", ttest_ind(male_dog_adopted_records[\"DateTime_length\"].astype('timedelta64[D]'), female_dog_adopted_records[\"DateTime_length\"].astype('timedelta64[D]')))\n",
    "print (\"Male vs Female Cat\", ttest_ind(male_cat_adopted_records[\"DateTime_length\"].astype('timedelta64[D]'), female_cat_adopted_records[\"DateTime_length\"].astype('timedelta64[D]')))"
   ]
  },
  {
   "cell_type": "markdown",
   "metadata": {},
   "source": [
    "#### Observation:- Not a significant difference between Dogs, but a significant difference between cats. Male animals are adopted faster than female."
   ]
  },
  {
   "cell_type": "markdown",
   "metadata": {},
   "source": [
    "### Given an animal is adopted, is there a significant difference between length of stay based on Age for dogs and cats?"
   ]
  },
  {
   "cell_type": "code",
   "execution_count": 146,
   "metadata": {},
   "outputs": [
    {
     "name": "stdout",
     "output_type": "stream",
     "text": [
      "DOGS\n",
      "Age_Bucket\n",
      "1-3 years           24.939549\n",
      "1-6 months          31.553665\n",
      "1-6 weeks           12.844652\n",
      "4-6 years           34.012135\n",
      "7+ years            20.383304\n",
      "7-12 months         25.099749\n",
      "Less than 1 week    29.886994\n",
      "Name: DateTime_length_int, dtype: float64\n",
      "\n",
      "CATS\n",
      "Age_Bucket\n",
      "1-3 years           39.299623\n",
      "1-6 months          42.340673\n",
      "1-6 weeks           47.203899\n",
      "4-6 years           26.738532\n",
      "7+ years            34.952591\n",
      "7-12 months         30.544025\n",
      "Less than 1 week    66.415638\n",
      "Name: DateTime_length_int, dtype: float64\n"
     ]
    },
    {
     "name": "stderr",
     "output_type": "stream",
     "text": [
      "<ipython-input-146-dd7941c83aec>:2: SettingWithCopyWarning: \n",
      "A value is trying to be set on a copy of a slice from a DataFrame.\n",
      "Try using .loc[row_indexer,col_indexer] = value instead\n",
      "\n",
      "See the caveats in the documentation: https://pandas.pydata.org/pandas-docs/stable/user_guide/indexing.html#returning-a-view-versus-a-copy\n",
      "  dog_adopted_records[\"DateTime_length_int\"] = dog_adopted_records[\"DateTime_length\"].astype('timedelta64[D]')\n",
      "<ipython-input-146-dd7941c83aec>:7: SettingWithCopyWarning: \n",
      "A value is trying to be set on a copy of a slice from a DataFrame.\n",
      "Try using .loc[row_indexer,col_indexer] = value instead\n",
      "\n",
      "See the caveats in the documentation: https://pandas.pydata.org/pandas-docs/stable/user_guide/indexing.html#returning-a-view-versus-a-copy\n",
      "  cat_adopted_records[\"DateTime_length_int\"] = cat_adopted_records[\"DateTime_length\"].astype('timedelta64[D]')\n"
     ]
    }
   ],
   "source": [
    "print (\"DOGS\")\n",
    "dog_adopted_records[\"DateTime_length_int\"] = dog_adopted_records[\"DateTime_length\"].astype('timedelta64[D]')\n",
    "dog_adopted_records_gb_age = dog_adopted_records.groupby([\"Age_Bucket\"])[\"DateTime_length_int\"].mean()\n",
    "print (dog_adopted_records_gb_age)\n",
    "\n",
    "print (\"\\nCATS\")\n",
    "cat_adopted_records[\"DateTime_length_int\"] = cat_adopted_records[\"DateTime_length\"].astype('timedelta64[D]')\n",
    "cat_adopted_records_gb_age = cat_adopted_records.groupby([\"Age_Bucket\"])[\"DateTime_length_int\"].mean()\n",
    "print (cat_adopted_records_gb_age)"
   ]
  },
  {
   "cell_type": "markdown",
   "metadata": {},
   "source": [
    "## Are there certain months that people tend to make more adoptions on? What about certain days of the week (weekends)?\n",
    "0 is Monday, 6 is Sunday"
   ]
  },
  {
   "cell_type": "code",
   "execution_count": 148,
   "metadata": {},
   "outputs": [
    {
     "data": {
      "text/plain": [
       "<matplotlib.axes._subplots.AxesSubplot at 0x14b98c8c1f0>"
      ]
     },
     "execution_count": 148,
     "metadata": {},
     "output_type": "execute_result"
    },
    {
     "data": {
      "image/png": "[encoded data removed]",
      "text/plain": [
       "<Figure size 1440x360 with 1 Axes>"
      ]
     },
     "metadata": {
      "needs_background": "light"
     },
     "output_type": "display_data"
    }
   ],
   "source": [
    "records[records['Outcome Type'] == \"Adoption\"]['Outcome_Date'].dt.dayofweek.value_counts().sort_index().plot(kind=\"bar\", figsize=(20,5), title = \"Adoptions Throughout the Week\")"
   ]
  },
  {
   "cell_type": "code",
   "execution_count": 149,
   "metadata": {},
   "outputs": [
    {
     "data": {
      "text/plain": [
       "<matplotlib.axes._subplots.AxesSubplot at 0x14b949508e0>"
      ]
     },
     "execution_count": 149,
     "metadata": {},
     "output_type": "execute_result"
    },
    {
     "data": {
      "image/png": "[encoded data removed]",
      "text/plain": [
       "<Figure size 1440x360 with 1 Axes>"
      ]
     },
     "metadata": {
      "needs_background": "light"
     },
     "output_type": "display_data"
    }
   ],
   "source": [
    "records[records['Outcome Type'] == \"Adoption\"]['Outcome_Date'].dt.month.value_counts().sort_index().plot(kind='bar', figsize=(20,5), title = \"Adoptions throughout the year\")"
   ]
  },
  {
   "cell_type": "markdown",
   "metadata": {},
   "source": [
    "## 6)How does likelihood of being adopted vs euthanized vs return to owner vs transfer change based on animal type, gender, and age?"
   ]
  },
  {
   "cell_type": "markdown",
   "metadata": {},
   "source": [
    "### What is the likelihood of outcomes based on Dog vs Cat?"
   ]
  },
  {
   "cell_type": "code",
   "execution_count": 151,
   "metadata": {},
   "outputs": [
    {
     "name": "stdout",
     "output_type": "stream",
     "text": [
      "DOGS\n",
      "47.555641776304185 % adopted\n",
      "1.9549574970900498 % euthanized\n",
      "31.2819653627738 % return to owner\n",
      "17.568163380480406 % transferred\n",
      "\n",
      "CATS\n",
      "49.29155407746138 % adopted\n",
      "3.7985865724381624 % euthanized\n",
      "5.1756391602577425 % return to owner\n",
      "39.75438231829834 % transferred\n"
     ]
    }
   ],
   "source": [
    "print (\"DOGS\")\n",
    "dog_records_outcome_gb = dog_records.groupby(['Outcome Type'])['Outcome Type'].count()\n",
    "print (float(dog_records_outcome_gb[\"Adoption\"]) / float(dog_records_outcome_gb.sum()) * 100, \"% adopted\")\n",
    "print (float(dog_records_outcome_gb[\"Euthanasia\"]) / float(dog_records_outcome_gb.sum()) * 100, \"% euthanized\")\n",
    "print (float(dog_records_outcome_gb[\"Return to Owner\"]) / float(dog_records_outcome_gb.sum()) * 100, \"% return to owner\")\n",
    "print (float(dog_records_outcome_gb[\"Transfer\"]) / float(dog_records_outcome_gb.sum()) * 100, \"% transferred\")\n",
    "\n",
    "print (\"\\nCATS\")\n",
    "cat_records_outcome_gb = cat_records.groupby(['Outcome Type'])['Outcome Type'].count()\n",
    "print (float(cat_records_outcome_gb[\"Adoption\"]) / float(cat_records_outcome_gb.sum()) * 100, \"% adopted\")\n",
    "print (float(cat_records_outcome_gb[\"Euthanasia\"]) / float(cat_records_outcome_gb.sum()) * 100, \"% euthanized\")\n",
    "print (float(cat_records_outcome_gb[\"Return to Owner\"]) / float(cat_records_outcome_gb.sum()) * 100, \"% return to owner\")\n",
    "print (float(cat_records_outcome_gb[\"Transfer\"]) / float(cat_records_outcome_gb.sum()) * 100, \"% transferred\")"
   ]
  },
  {
   "cell_type": "markdown",
   "metadata": {},
   "source": [
    "### What is the likelihood of outcomes based on gender?"
   ]
  },
  {
   "cell_type": "code",
   "execution_count": 154,
   "metadata": {},
   "outputs": [
    {
     "name": "stdout",
     "output_type": "stream",
     "text": [
      "MALE DOGS\n",
      "45.14211762450271 % adopted\n",
      "2.0962149898544475 % euthanized\n",
      "34.36546357986228 % return to owner\n",
      "16.542842991579988 % transferred\n",
      "\n",
      "FEMALE DOGS\n",
      "51.040092275873036 % adopted\n",
      "1.7063081695966906 % euthanized\n",
      "27.583326704319468 % return to owner\n",
      "18.359716808527562 % transferred\n",
      "\n",
      "MALE CATS\n",
      "52.41529562016377 % adopted\n",
      "3.8314176245210727 % euthanized\n",
      "6.269250995417323 % return to owner\n",
      "35.54954548869356 % transferred\n",
      "\n",
      "FEMALE CATS\n",
      "53.68327533871325 % adopted\n",
      "3.031761308950914 % euthanized\n",
      "4.701266010216925 % return to owner\n",
      "36.884578366772786 % transferred\n"
     ]
    }
   ],
   "source": [
    "print (\"MALE DOGS\")\n",
    "male_dog_records_outcome_gb = dog_records[dog_records['Gender'] == \"Male\"].groupby(['Outcome Type'])['Outcome Type'].count()\n",
    "print (float(male_dog_records_outcome_gb[\"Adoption\"]) / float(male_dog_records_outcome_gb.sum()) * 100, \"% adopted\")\n",
    "print (float(male_dog_records_outcome_gb[\"Euthanasia\"]) / float(male_dog_records_outcome_gb.sum()) * 100, \"% euthanized\")\n",
    "print (float(male_dog_records_outcome_gb[\"Return to Owner\"]) / float(male_dog_records_outcome_gb.sum()) * 100, \"% return to owner\")\n",
    "print (float(male_dog_records_outcome_gb[\"Transfer\"]) / float(male_dog_records_outcome_gb.sum()) * 100, \"% transferred\")\n",
    "\n",
    "print (\"\\nFEMALE DOGS\")\n",
    "female_dog_records_outcome_gb = dog_records[dog_records['Gender'] == \"Female\"].groupby(['Outcome Type'])['Outcome Type'].count()\n",
    "print (float(female_dog_records_outcome_gb[\"Adoption\"]) / float(female_dog_records_outcome_gb.sum()) * 100, \"% adopted\")\n",
    "print (float(female_dog_records_outcome_gb[\"Euthanasia\"]) / float(female_dog_records_outcome_gb.sum()) * 100, \"% euthanized\")\n",
    "print (float(female_dog_records_outcome_gb[\"Return to Owner\"]) / float(female_dog_records_outcome_gb.sum()) * 100, \"% return to owner\")\n",
    "print (float(female_dog_records_outcome_gb[\"Transfer\"]) / float(female_dog_records_outcome_gb.sum()) * 100, \"% transferred\")\n",
    "\n",
    "print (\"\\nMALE CATS\")\n",
    "male_cat_records_outcome_gb = cat_records[cat_records['Gender'] == \"Male\"].groupby(['Outcome Type'])['Outcome Type'].count()\n",
    "print (float(male_cat_records_outcome_gb[\"Adoption\"]) / float(male_cat_records_outcome_gb.sum()) * 100, \"% adopted\")\n",
    "print (float(male_cat_records_outcome_gb[\"Euthanasia\"]) / float(male_cat_records_outcome_gb.sum()) * 100, \"% euthanized\")\n",
    "print (float(male_cat_records_outcome_gb[\"Return to Owner\"]) / float(male_cat_records_outcome_gb.sum()) * 100, \"% return to owner\")\n",
    "print (float(male_cat_records_outcome_gb[\"Transfer\"]) / float(male_cat_records_outcome_gb.sum()) * 100, \"% transferred\")\n",
    "\n",
    "print (\"\\nFEMALE CATS\")\n",
    "female_cat_records_outcome_gb = cat_records[cat_records['Gender'] == \"Female\"].groupby(['Outcome Type'])['Outcome Type'].count()\n",
    "print (float(female_cat_records_outcome_gb[\"Adoption\"]) / float(female_cat_records_outcome_gb.sum()) * 100, \"% adopted\")\n",
    "print (float(female_cat_records_outcome_gb[\"Euthanasia\"]) / float(female_cat_records_outcome_gb.sum()) * 100, \"% euthanized\")\n",
    "print (float(female_cat_records_outcome_gb[\"Return to Owner\"]) / float(female_cat_records_outcome_gb.sum()) * 100, \"% return to owner\")\n",
    "print (float(female_cat_records_outcome_gb[\"Transfer\"]) / float(female_cat_records_outcome_gb.sum()) * 100, \"% transferred\")"
   ]
  },
  {
   "cell_type": "markdown",
   "metadata": {},
   "source": [
    "### What is the likelihood of outcome based on age?"
   ]
  },
  {
   "cell_type": "code",
   "execution_count": 155,
   "metadata": {},
   "outputs": [
    {
     "data": {
      "text/plain": [
       "<matplotlib.axes._subplots.AxesSubplot at 0x14ba6fea4f0>"
      ]
     },
     "execution_count": 155,
     "metadata": {},
     "output_type": "execute_result"
    },
    {
     "data": {
      "image/png": "[encoded data removed]",
      "text/plain": [
       "<Figure size 1440x360 with 1 Axes>"
      ]
     },
     "metadata": {
      "needs_background": "light"
     },
     "output_type": "display_data"
    }
   ],
   "source": [
    "dog_records_outcome_age_gb = dog_records.groupby(['Outcome Type','Age_Bucket'])['Age_Bucket'].count().unstack()\n",
    "# Drop outcomes we're not interested in\n",
    "dog_records_outcome_age_gb = dog_records_outcome_age_gb.drop(dog_records_outcome_age_gb.index[[1,2,4,6]])\n",
    "\n",
    "# Transform into a percentage\n",
    "def get_perc_outcome(val,col):\n",
    "    return float(val) / float(dog_records_outcome_age_gb[col].sum()) * 100\n",
    "\n",
    "perc_dog_records_outcome_age_gb = pd.DataFrame()\n",
    "for col in dog_records_outcome_age_gb.columns:\n",
    "    perc_dog_records_outcome_age_gb[col] = dog_records_outcome_age_gb[col].apply(get_perc_outcome, args=(col,))\n",
    "\n",
    "perc_dog_records_outcome_age_gb = perc_dog_records_outcome_age_gb.T\n",
    "perc_dog_records_outcome_age_gb.plot(kind=\"bar\", figsize=(20,5), title = \"Distribution of outcomes based on age\")"
   ]
  },
  {
   "cell_type": "code",
   "execution_count": 157,
   "metadata": {},
   "outputs": [],
   "source": [
    "#records.columns = ['Animal_ID','Name_intake','DateTime_intake','MonthYear_intake','Found_Location','Intake_Type',\\\n",
    "#                   'IntakeCondition','Animal_Type_intake','Sex','Age','Breed_intake','Color_intake','Name_outcome',\\\n",
    "#                   'DateTime_outcome','MonthYear_outcome','Outcome_Type','Outcome_Subtype','Sex_upon_Outcome',\\\n",
    "#                   'Age_upon_Outcome','Gender','fixed_intake','fixed_outcome','fixed_changed','Age_Bucket',\\\n",
    "#                   'retriever','shepherd','beagle','terrier','boxer','poodle','rottweiler','dachshund',\\\n",
    "#                  'chihuahua','pit_bull','DateTime_length','Days_length']"
   ]
  },
  {
   "cell_type": "markdown",
   "metadata": {},
   "source": [
    "## Feature Engineering on final Records dataset!:"
   ]
  },
  {
   "cell_type": "code",
   "execution_count": 218,
   "metadata": {},
   "outputs": [],
   "source": [
    "#records.groupby(by=['Outcome Type'])['Animal_ID'].count()"
   ]
  },
  {
   "cell_type": "code",
   "execution_count": 162,
   "metadata": {},
   "outputs": [],
   "source": [
    "records['Name_intake'] = records['Name_intake'].fillna('No Name')\n",
    "records['Have_name_start'] = 0\n",
    "records.loc[records['Name_intake'] != 'No Name','Have_name_start'] = 1\n",
    "records['Name_outcome'] = records['Name_outcome'].fillna('No Name')\n",
    "records['Have_name_end'] = 0\n",
    "records.loc[records['Name_intake'] != 'No Name', 'Have_name_end'] = 1"
   ]
  },
  {
   "cell_type": "markdown",
   "metadata": {
    "collapsed": true
   },
   "source": [
    "# <span style=\"color:blue\"> Implementing few prediction models to predict adoption vs other outcomes!</span>"
   ]
  },
  {
   "cell_type": "code",
   "execution_count": 208,
   "metadata": {},
   "outputs": [
    {
     "data": {
      "text/html": [
       "<div>\n",
       "<style scoped>\n",
       "    .dataframe tbody tr th:only-of-type {\n",
       "        vertical-align: middle;\n",
       "    }\n",
       "\n",
       "    .dataframe tbody tr th {\n",
       "        vertical-align: top;\n",
       "    }\n",
       "\n",
       "    .dataframe thead th {\n",
       "        text-align: right;\n",
       "    }\n",
       "</style>\n",
       "<table border=\"1\" class=\"dataframe\">\n",
       "  <thead>\n",
       "    <tr style=\"text-align: right;\">\n",
       "      <th></th>\n",
       "      <th>Animal_ID</th>\n",
       "      <th>Name_intake</th>\n",
       "      <th>IntakeDate</th>\n",
       "      <th>FoundLocation</th>\n",
       "      <th>IntakeType</th>\n",
       "      <th>IntakeCondition</th>\n",
       "      <th>AnimalType</th>\n",
       "      <th>SexUponIntake</th>\n",
       "      <th>Breed_intake</th>\n",
       "      <th>Color_intake</th>\n",
       "      <th>...</th>\n",
       "      <th>poodle</th>\n",
       "      <th>rottweiler</th>\n",
       "      <th>dachshund</th>\n",
       "      <th>chihuahua</th>\n",
       "      <th>pit bull</th>\n",
       "      <th>DateTime_length</th>\n",
       "      <th>Days_length</th>\n",
       "      <th>Have_name_start</th>\n",
       "      <th>Have_name_end</th>\n",
       "      <th>Target</th>\n",
       "    </tr>\n",
       "  </thead>\n",
       "  <tbody>\n",
       "    <tr>\n",
       "      <th>0</th>\n",
       "      <td>A786884</td>\n",
       "      <td>Brock</td>\n",
       "      <td>2019-03-01</td>\n",
       "      <td>2501 Magin Meadow Dr in Austin (TX)</td>\n",
       "      <td>Stray</td>\n",
       "      <td>Normal</td>\n",
       "      <td>Dog</td>\n",
       "      <td>Neutered Male</td>\n",
       "      <td>Beagle Mix</td>\n",
       "      <td>Tricolor</td>\n",
       "      <td>...</td>\n",
       "      <td>0</td>\n",
       "      <td>0</td>\n",
       "      <td>0</td>\n",
       "      <td>0</td>\n",
       "      <td>0</td>\n",
       "      <td>-52 days</td>\n",
       "      <td>NaN</td>\n",
       "      <td>1</td>\n",
       "      <td>1</td>\n",
       "      <td>0</td>\n",
       "    </tr>\n",
       "    <tr>\n",
       "      <th>1</th>\n",
       "      <td>A706918</td>\n",
       "      <td>Belle</td>\n",
       "      <td>2015-05-07</td>\n",
       "      <td>9409 Bluegrass Dr in Austin (TX)</td>\n",
       "      <td>Stray</td>\n",
       "      <td>Normal</td>\n",
       "      <td>Dog</td>\n",
       "      <td>Spayed Female</td>\n",
       "      <td>English Springer Spaniel</td>\n",
       "      <td>White &amp; Liver</td>\n",
       "      <td>...</td>\n",
       "      <td>0</td>\n",
       "      <td>0</td>\n",
       "      <td>0</td>\n",
       "      <td>0</td>\n",
       "      <td>0</td>\n",
       "      <td>59 days</td>\n",
       "      <td>7-12 weeks</td>\n",
       "      <td>1</td>\n",
       "      <td>1</td>\n",
       "      <td>0</td>\n",
       "    </tr>\n",
       "    <tr>\n",
       "      <th>2</th>\n",
       "      <td>A724273</td>\n",
       "      <td>Runster</td>\n",
       "      <td>2016-04-14</td>\n",
       "      <td>2818 Palomino Trail in Austin (TX)</td>\n",
       "      <td>Stray</td>\n",
       "      <td>Normal</td>\n",
       "      <td>Dog</td>\n",
       "      <td>Intact Male</td>\n",
       "      <td>Basenji Mix</td>\n",
       "      <td>Sable &amp; White</td>\n",
       "      <td>...</td>\n",
       "      <td>0</td>\n",
       "      <td>0</td>\n",
       "      <td>0</td>\n",
       "      <td>0</td>\n",
       "      <td>0</td>\n",
       "      <td>7 days</td>\n",
       "      <td>0-7 days</td>\n",
       "      <td>1</td>\n",
       "      <td>1</td>\n",
       "      <td>0</td>\n",
       "    </tr>\n",
       "    <tr>\n",
       "      <th>3</th>\n",
       "      <td>A665644</td>\n",
       "      <td>Dummy</td>\n",
       "      <td>2013-10-21</td>\n",
       "      <td>Austin (TX)</td>\n",
       "      <td>Stray</td>\n",
       "      <td>Sick</td>\n",
       "      <td>Cat</td>\n",
       "      <td>Intact Female</td>\n",
       "      <td>Domestic Shorthair Mix</td>\n",
       "      <td>Calico</td>\n",
       "      <td>...</td>\n",
       "      <td>0</td>\n",
       "      <td>0</td>\n",
       "      <td>0</td>\n",
       "      <td>0</td>\n",
       "      <td>0</td>\n",
       "      <td>0 days</td>\n",
       "      <td>0-7 days</td>\n",
       "      <td>1</td>\n",
       "      <td>1</td>\n",
       "      <td>0</td>\n",
       "    </tr>\n",
       "    <tr>\n",
       "      <th>4</th>\n",
       "      <td>A682524</td>\n",
       "      <td>Rio</td>\n",
       "      <td>2014-06-29</td>\n",
       "      <td>800 Grove Blvd in Austin (TX)</td>\n",
       "      <td>Stray</td>\n",
       "      <td>Normal</td>\n",
       "      <td>Dog</td>\n",
       "      <td>Neutered Male</td>\n",
       "      <td>Doberman Pinsch &amp; Australian Cattle Dog</td>\n",
       "      <td>Tan &amp; Gray</td>\n",
       "      <td>...</td>\n",
       "      <td>0</td>\n",
       "      <td>0</td>\n",
       "      <td>0</td>\n",
       "      <td>0</td>\n",
       "      <td>0</td>\n",
       "      <td>3 days</td>\n",
       "      <td>0-7 days</td>\n",
       "      <td>1</td>\n",
       "      <td>1</td>\n",
       "      <td>0</td>\n",
       "    </tr>\n",
       "    <tr>\n",
       "      <th>...</th>\n",
       "      <td>...</td>\n",
       "      <td>...</td>\n",
       "      <td>...</td>\n",
       "      <td>...</td>\n",
       "      <td>...</td>\n",
       "      <td>...</td>\n",
       "      <td>...</td>\n",
       "      <td>...</td>\n",
       "      <td>...</td>\n",
       "      <td>...</td>\n",
       "      <td>...</td>\n",
       "      <td>...</td>\n",
       "      <td>...</td>\n",
       "      <td>...</td>\n",
       "      <td>...</td>\n",
       "      <td>...</td>\n",
       "      <td>...</td>\n",
       "      <td>...</td>\n",
       "      <td>...</td>\n",
       "      <td>...</td>\n",
       "      <td>...</td>\n",
       "    </tr>\n",
       "    <tr>\n",
       "      <th>179296</th>\n",
       "      <td>A703597</td>\n",
       "      <td>Sunshine</td>\n",
       "      <td>2022-07-05</td>\n",
       "      <td>3601 Pierce Rd in Austin (TX)</td>\n",
       "      <td>Owner Surrender</td>\n",
       "      <td>Normal</td>\n",
       "      <td>Cat</td>\n",
       "      <td>Spayed Female</td>\n",
       "      <td>Domestic Medium Hair Mix</td>\n",
       "      <td>Lynx Point</td>\n",
       "      <td>...</td>\n",
       "      <td>0</td>\n",
       "      <td>0</td>\n",
       "      <td>0</td>\n",
       "      <td>0</td>\n",
       "      <td>0</td>\n",
       "      <td>-2566 days</td>\n",
       "      <td>NaN</td>\n",
       "      <td>1</td>\n",
       "      <td>1</td>\n",
       "      <td>1</td>\n",
       "    </tr>\n",
       "    <tr>\n",
       "      <th>179297</th>\n",
       "      <td>A850020</td>\n",
       "      <td>Shadow</td>\n",
       "      <td>2022-05-05</td>\n",
       "      <td>Austin (TX)</td>\n",
       "      <td>Owner Surrender</td>\n",
       "      <td>Normal</td>\n",
       "      <td>Dog</td>\n",
       "      <td>Neutered Male</td>\n",
       "      <td>Labrador Retriever Mix</td>\n",
       "      <td>Black &amp; White</td>\n",
       "      <td>...</td>\n",
       "      <td>0</td>\n",
       "      <td>0</td>\n",
       "      <td>0</td>\n",
       "      <td>0</td>\n",
       "      <td>0</td>\n",
       "      <td>-2 days</td>\n",
       "      <td>NaN</td>\n",
       "      <td>1</td>\n",
       "      <td>1</td>\n",
       "      <td>1</td>\n",
       "    </tr>\n",
       "    <tr>\n",
       "      <th>179298</th>\n",
       "      <td>A850020</td>\n",
       "      <td>Shadow</td>\n",
       "      <td>2022-01-17</td>\n",
       "      <td>Riverside And Commerce in Austin (TX)</td>\n",
       "      <td>Stray</td>\n",
       "      <td>Injured</td>\n",
       "      <td>Dog</td>\n",
       "      <td>Intact Male</td>\n",
       "      <td>Labrador Retriever Mix</td>\n",
       "      <td>Black &amp; White</td>\n",
       "      <td>...</td>\n",
       "      <td>0</td>\n",
       "      <td>0</td>\n",
       "      <td>0</td>\n",
       "      <td>0</td>\n",
       "      <td>0</td>\n",
       "      <td>106 days</td>\n",
       "      <td>12 weeks - 6 months</td>\n",
       "      <td>1</td>\n",
       "      <td>1</td>\n",
       "      <td>1</td>\n",
       "    </tr>\n",
       "    <tr>\n",
       "      <th>179299</th>\n",
       "      <td>A853682</td>\n",
       "      <td>Baxtor</td>\n",
       "      <td>2022-03-22</td>\n",
       "      <td>Austin (TX)</td>\n",
       "      <td>Owner Surrender</td>\n",
       "      <td>Normal</td>\n",
       "      <td>Dog</td>\n",
       "      <td>Intact Male</td>\n",
       "      <td>Australian Cattle Dog Mix</td>\n",
       "      <td>White &amp; Black</td>\n",
       "      <td>...</td>\n",
       "      <td>0</td>\n",
       "      <td>0</td>\n",
       "      <td>0</td>\n",
       "      <td>0</td>\n",
       "      <td>0</td>\n",
       "      <td>2 days</td>\n",
       "      <td>0-7 days</td>\n",
       "      <td>1</td>\n",
       "      <td>1</td>\n",
       "      <td>1</td>\n",
       "    </tr>\n",
       "    <tr>\n",
       "      <th>179300</th>\n",
       "      <td>A853682</td>\n",
       "      <td>Baxtor</td>\n",
       "      <td>2022-08-05</td>\n",
       "      <td>13813 Burnet Rd in Austin (TX)</td>\n",
       "      <td>Stray</td>\n",
       "      <td>Normal</td>\n",
       "      <td>Dog</td>\n",
       "      <td>Neutered Male</td>\n",
       "      <td>Australian Cattle Dog Mix</td>\n",
       "      <td>White &amp; Black</td>\n",
       "      <td>...</td>\n",
       "      <td>0</td>\n",
       "      <td>0</td>\n",
       "      <td>0</td>\n",
       "      <td>0</td>\n",
       "      <td>0</td>\n",
       "      <td>-134 days</td>\n",
       "      <td>NaN</td>\n",
       "      <td>1</td>\n",
       "      <td>1</td>\n",
       "      <td>1</td>\n",
       "    </tr>\n",
       "  </tbody>\n",
       "</table>\n",
       "<p>179301 rows × 38 columns</p>\n",
       "</div>"
      ],
      "text/plain": [
       "       Animal_ID Name_intake IntakeDate  \\\n",
       "0        A786884       Brock 2019-03-01   \n",
       "1        A706918       Belle 2015-05-07   \n",
       "2        A724273     Runster 2016-04-14   \n",
       "3        A665644       Dummy 2013-10-21   \n",
       "4        A682524         Rio 2014-06-29   \n",
       "...          ...         ...        ...   \n",
       "179296   A703597    Sunshine 2022-07-05   \n",
       "179297   A850020      Shadow 2022-05-05   \n",
       "179298   A850020      Shadow 2022-01-17   \n",
       "179299   A853682      Baxtor 2022-03-22   \n",
       "179300   A853682      Baxtor 2022-08-05   \n",
       "\n",
       "                                FoundLocation       IntakeType  \\\n",
       "0         2501 Magin Meadow Dr in Austin (TX)            Stray   \n",
       "1            9409 Bluegrass Dr in Austin (TX)            Stray   \n",
       "2          2818 Palomino Trail in Austin (TX)            Stray   \n",
       "3                                 Austin (TX)            Stray   \n",
       "4               800 Grove Blvd in Austin (TX)            Stray   \n",
       "...                                       ...              ...   \n",
       "179296          3601 Pierce Rd in Austin (TX)  Owner Surrender   \n",
       "179297                            Austin (TX)  Owner Surrender   \n",
       "179298  Riverside And Commerce in Austin (TX)            Stray   \n",
       "179299                            Austin (TX)  Owner Surrender   \n",
       "179300         13813 Burnet Rd in Austin (TX)            Stray   \n",
       "\n",
       "       IntakeCondition AnimalType  SexUponIntake  \\\n",
       "0               Normal        Dog  Neutered Male   \n",
       "1               Normal        Dog  Spayed Female   \n",
       "2               Normal        Dog    Intact Male   \n",
       "3                 Sick        Cat  Intact Female   \n",
       "4               Normal        Dog  Neutered Male   \n",
       "...                ...        ...            ...   \n",
       "179296          Normal        Cat  Spayed Female   \n",
       "179297          Normal        Dog  Neutered Male   \n",
       "179298         Injured        Dog    Intact Male   \n",
       "179299          Normal        Dog    Intact Male   \n",
       "179300          Normal        Dog  Neutered Male   \n",
       "\n",
       "                                   Breed_intake   Color_intake  ... poodle  \\\n",
       "0                                    Beagle Mix       Tricolor  ...      0   \n",
       "1                      English Springer Spaniel  White & Liver  ...      0   \n",
       "2                                   Basenji Mix  Sable & White  ...      0   \n",
       "3                        Domestic Shorthair Mix         Calico  ...      0   \n",
       "4       Doberman Pinsch & Australian Cattle Dog     Tan & Gray  ...      0   \n",
       "...                                         ...            ...  ...    ...   \n",
       "179296                 Domestic Medium Hair Mix     Lynx Point  ...      0   \n",
       "179297                   Labrador Retriever Mix  Black & White  ...      0   \n",
       "179298                   Labrador Retriever Mix  Black & White  ...      0   \n",
       "179299                Australian Cattle Dog Mix  White & Black  ...      0   \n",
       "179300                Australian Cattle Dog Mix  White & Black  ...      0   \n",
       "\n",
       "       rottweiler dachshund chihuahua pit bull DateTime_length  \\\n",
       "0               0         0         0        0        -52 days   \n",
       "1               0         0         0        0         59 days   \n",
       "2               0         0         0        0          7 days   \n",
       "3               0         0         0        0          0 days   \n",
       "4               0         0         0        0          3 days   \n",
       "...           ...       ...       ...      ...             ...   \n",
       "179296          0         0         0        0      -2566 days   \n",
       "179297          0         0         0        0         -2 days   \n",
       "179298          0         0         0        0        106 days   \n",
       "179299          0         0         0        0          2 days   \n",
       "179300          0         0         0        0       -134 days   \n",
       "\n",
       "                Days_length Have_name_start Have_name_end Target  \n",
       "0                       NaN               1             1      0  \n",
       "1                7-12 weeks               1             1      0  \n",
       "2                  0-7 days               1             1      0  \n",
       "3                  0-7 days               1             1      0  \n",
       "4                  0-7 days               1             1      0  \n",
       "...                     ...             ...           ...    ...  \n",
       "179296                  NaN               1             1      1  \n",
       "179297                  NaN               1             1      1  \n",
       "179298  12 weeks - 6 months               1             1      1  \n",
       "179299             0-7 days               1             1      1  \n",
       "179300                  NaN               1             1      1  \n",
       "\n",
       "[179301 rows x 38 columns]"
      ]
     },
     "execution_count": 208,
     "metadata": {},
     "output_type": "execute_result"
    }
   ],
   "source": [
    "# Set the target column for prediction\n",
    "records['Target'] = 0\n",
    "adopt_mask = records['Outcome Type'] == 'Adoption'\n",
    "records.loc[adopt_mask, 'Target'] = 1\n",
    "records"
   ]
  },
  {
   "cell_type": "code",
   "execution_count": 167,
   "metadata": {},
   "outputs": [
    {
     "name": "stdout",
     "output_type": "stream",
     "text": [
      "0.5350%\n"
     ]
    },
    {
     "data": {
      "text/plain": [
       "0    95928\n",
       "1    83373\n",
       "Name: Target, dtype: int64"
      ]
     },
     "execution_count": 167,
     "metadata": {},
     "output_type": "execute_result"
    }
   ],
   "source": [
    "# What's our baseline prediction accuracy?\n",
    "majority = float(records['Target'].value_counts()[0])\n",
    "total = records['Target'].value_counts().sum()\n",
    "baseline = majority / total\n",
    "print (format(baseline, '.4f') + '%')\n",
    "records['Target'].value_counts()"
   ]
  },
  {
   "cell_type": "code",
   "execution_count": 169,
   "metadata": {},
   "outputs": [
    {
     "name": "stdout",
     "output_type": "stream",
     "text": [
      "<class 'pandas.core.frame.DataFrame'>\n",
      "Int64Index: 179301 entries, 0 to 179300\n",
      "Data columns (total 38 columns):\n",
      " #   Column              Non-Null Count   Dtype          \n",
      "---  ------              --------------   -----          \n",
      " 0   Animal_ID           179301 non-null  object         \n",
      " 1   Name_intake         179301 non-null  object         \n",
      " 2   IntakeDate          179301 non-null  datetime64[ns] \n",
      " 3   FoundLocation       179301 non-null  object         \n",
      " 4   IntakeType          179301 non-null  object         \n",
      " 5   IntakeCondition     179301 non-null  object         \n",
      " 6   AnimalType          179301 non-null  object         \n",
      " 7   SexUponIntake       179300 non-null  object         \n",
      " 8   Breed_intake        179301 non-null  object         \n",
      " 9   Color_intake        179301 non-null  object         \n",
      " 10  Age                 179301 non-null  object         \n",
      " 11  Name_outcome        179301 non-null  object         \n",
      " 12  Outcome_Date        179301 non-null  datetime64[ns] \n",
      " 13  Outcome Type        179267 non-null  object         \n",
      " 14  Sex upon Outcome    179300 non-null  object         \n",
      " 15  outcome_age_days    179301 non-null  object         \n",
      " 16  outcome_age_months  179301 non-null  object         \n",
      " 17  outcome_age_years   179301 non-null  object         \n",
      " 18  Gender              168188 non-null  object         \n",
      " 19  fixed_intake        179300 non-null  object         \n",
      " 20  fixed_outcome       179300 non-null  object         \n",
      " 21  fixed_changed       179301 non-null  int64          \n",
      " 22  Age_Bucket          179301 non-null  object         \n",
      " 23  retriever           179301 non-null  int64          \n",
      " 24  shepherd            179301 non-null  int64          \n",
      " 25  beagle              179301 non-null  int64          \n",
      " 26  terrier             179301 non-null  int64          \n",
      " 27  boxer               179301 non-null  int64          \n",
      " 28  poodle              179301 non-null  int64          \n",
      " 29  rottweiler          179301 non-null  int64          \n",
      " 30  dachshund           179301 non-null  int64          \n",
      " 31  chihuahua           179301 non-null  int64          \n",
      " 32  pit bull            179301 non-null  int64          \n",
      " 33  DateTime_length     179301 non-null  timedelta64[ns]\n",
      " 34  Days_length         136250 non-null  object         \n",
      " 35  Have_name_start     179301 non-null  int64          \n",
      " 36  Have_name_end       179301 non-null  int64          \n",
      " 37  Target              179301 non-null  int64          \n",
      "dtypes: datetime64[ns](2), int64(14), object(21), timedelta64[ns](1)\n",
      "memory usage: 53.4+ MB\n"
     ]
    }
   ],
   "source": [
    "records.info()"
   ]
  },
  {
   "cell_type": "markdown",
   "metadata": {},
   "source": [
    "# Decission Tree!"
   ]
  },
  {
   "cell_type": "code",
   "execution_count": 177,
   "metadata": {},
   "outputs": [],
   "source": [
    "from sklearn.model_selection import KFold, cross_val_score, train_test_split\n",
    "y, X = dmatrices('Target ~ Gender + Age_Bucket + AnimalType + IntakeType + IntakeCondition + retriever + shepherd + beagle + terrier + boxer + poodle + rottweiler + dachshund + chihuahua + Have_name_start + Have_name_end', data=records, return_type='dataframe')\n",
    "X_train, X_test, y_train, y_test = train_test_split(X, y, test_size=0.3, random_state=1)"
   ]
  },
  {
   "cell_type": "code",
   "execution_count": 202,
   "metadata": {
    "scrolled": true
   },
   "outputs": [
    {
     "name": "stdout",
     "output_type": "stream",
     "text": [
      "Train accuracy: 0.6045306673688323\n",
      "Test accuracy: 0.606417345462473\n"
     ]
    }
   ],
   "source": [
    "from io import StringIO\n",
    "\n",
    "\n",
    "model = DecisionTreeClassifier(criterion='entropy', max_depth=3)\n",
    "model.fit(X, y)\n",
    "prediction_on_training = model.predict(X_train)\n",
    "print ('Train accuracy:', metrics.accuracy_score(y_train, prediction_on_training))\n",
    "prediction_on_test = model.predict(X_test)\n",
    "print ('Test accuracy:', metrics.accuracy_score(y_test, prediction_on_test))\n",
    "#dot_data = StringIO()\n",
    "#export_graphviz(model, out_file=dot_data, feature_names=X.columns.values)\n",
    "#pydot.graph_from_dot_data(dot_data.getvalue()).write_png('Tree Model')"
   ]
  },
  {
   "cell_type": "markdown",
   "metadata": {},
   "source": [
    "#  K-Nearest neighbors Model!"
   ]
  },
  {
   "cell_type": "code",
   "execution_count": 204,
   "metadata": {},
   "outputs": [
    {
     "name": "stdout",
     "output_type": "stream",
     "text": [
      "Number of Neighbors: 50\n"
     ]
    },
    {
     "name": "stderr",
     "output_type": "stream",
     "text": [
      "<ipython-input-204-7ce9aee4626f>:9: DataConversionWarning: A column-vector y was passed when a 1d array was expected. Please change the shape of y to (n_samples, ), for example using ravel().\n",
      "  model.fit(X_train, y_train)\n"
     ]
    },
    {
     "name": "stdout",
     "output_type": "stream",
     "text": [
      "Train accuracy: 0.6061105401296175\n",
      "Test accuracy: 0.6061795191945617\n",
      "\n",
      "Number of Neighbors: 250\n"
     ]
    },
    {
     "name": "stderr",
     "output_type": "stream",
     "text": [
      "<ipython-input-204-7ce9aee4626f>:9: DataConversionWarning: A column-vector y was passed when a 1d array was expected. Please change the shape of y to (n_samples, ), for example using ravel().\n",
      "  model.fit(X_train, y_train)\n"
     ]
    },
    {
     "name": "stdout",
     "output_type": "stream",
     "text": [
      "Train accuracy: 0.6119543705566078\n",
      "Test accuracy: 0.6110351388310838\n",
      "\n",
      "Number of Neighbors: 500\n"
     ]
    },
    {
     "name": "stderr",
     "output_type": "stream",
     "text": [
      "<ipython-input-204-7ce9aee4626f>:9: DataConversionWarning: A column-vector y was passed when a 1d array was expected. Please change the shape of y to (n_samples, ), for example using ravel().\n",
      "  model.fit(X_train, y_train)\n"
     ]
    },
    {
     "name": "stdout",
     "output_type": "stream",
     "text": [
      "Train accuracy: 0.6126593675412593\n",
      "Test accuracy: 0.6113918782329508\n",
      "\n"
     ]
    }
   ],
   "source": [
    "neighbor_list = [50,250,500]\n",
    "\n",
    "for neighbor_num in neighbor_list:\n",
    "    model = neighbors.KNeighborsClassifier(n_neighbors=neighbor_num,\n",
    "                                       weights='uniform',\n",
    "                                       p=2)\n",
    "    \n",
    "    print ('Number of Neighbors:', neighbor_num)\n",
    "    model.fit(X_train, y_train)\n",
    "    prediction_on_training = model.predict(X_train)\n",
    "    print ('Train accuracy:', metrics.accuracy_score(y_train, prediction_on_training))\n",
    "    prediction_on_test = model.predict(X_test)\n",
    "    print ('Test accuracy:', metrics.accuracy_score(y_test, prediction_on_test))\n",
    "    print ('')"
   ]
  },
  {
   "cell_type": "markdown",
   "metadata": {},
   "source": [
    "# Naive Bayes Model!"
   ]
  },
  {
   "cell_type": "code",
   "execution_count": 205,
   "metadata": {},
   "outputs": [
    {
     "name": "stdout",
     "output_type": "stream",
     "text": [
      "Train accuracy: 0.6087181795788704\n",
      "Test accuracy: 0.6114513347999286\n"
     ]
    },
    {
     "name": "stderr",
     "output_type": "stream",
     "text": [
      "C:\\Users\\16508\\anaconda3\\envs\\lib\\site-packages\\sklearn\\utils\\validation.py:73: DataConversionWarning: A column-vector y was passed when a 1d array was expected. Please change the shape of y to (n_samples, ), for example using ravel().\n",
      "  return f(**kwargs)\n"
     ]
    }
   ],
   "source": [
    "model = naive_bayes.MultinomialNB()\n",
    "model.fit(X, y)\n",
    "prediction_on_training = model.predict(X_train)\n",
    "print ('Train accuracy:', metrics.accuracy_score(y_train, prediction_on_training))\n",
    "prediction_on_test = model.predict(X_test)\n",
    "print ('Test accuracy:', metrics.accuracy_score(y_test, prediction_on_test))"
   ]
  },
  {
   "cell_type": "markdown",
   "metadata": {},
   "source": [
    "# Random forest Model!"
   ]
  },
  {
   "cell_type": "code",
   "execution_count": 206,
   "metadata": {},
   "outputs": [
    {
     "name": "stderr",
     "output_type": "stream",
     "text": [
      "<ipython-input-206-a6b272f7aef2>:2: DataConversionWarning: A column-vector y was passed when a 1d array was expected. Please change the shape of y to (n_samples,), for example using ravel().\n",
      "  model_rf.fit(X, y)\n"
     ]
    },
    {
     "name": "stdout",
     "output_type": "stream",
     "text": [
      "Train accuracy: 0.6052866279909285\n",
      "Test accuracy: 0.6114513347999286\n"
     ]
    }
   ],
   "source": [
    "model_rf = RandomForestClassifier(n_estimators=100, max_depth=3)\n",
    "model_rf.fit(X, y)\n",
    "prediction_on_training = model_rf.predict(X_train)\n",
    "print ('Train accuracy:', metrics.accuracy_score(y_train, prediction_on_training))\n",
    "prediction_on_test = model.predict(X_test)\n",
    "print ('Test accuracy:', metrics.accuracy_score(y_test, prediction_on_test))"
   ]
  }
 ],
 "metadata": {
  "anaconda-cloud": {},
  "kernelspec": {
   "display_name": "Python 3",
   "language": "python",
   "name": "python3"
  },
  "language_info": {
   "codemirror_mode": {
    "name": "ipython",
    "version": 3
   },
   "file_extension": ".py",
   "mimetype": "text/x-python",
   "name": "python",
   "nbconvert_exporter": "python",
   "pygments_lexer": "ipython3",
   "version": "3.8.3"
  }
 },
 "nbformat": 4,
 "nbformat_minor": 2
}
